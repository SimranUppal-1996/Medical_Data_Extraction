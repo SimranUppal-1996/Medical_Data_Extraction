{
 "cells": [
  {
   "cell_type": "code",
   "execution_count": 1,
   "id": "d7f2ba17",
   "metadata": {},
   "outputs": [],
   "source": [
    "from pdf2image import convert_from_path"
   ]
  },
  {
   "cell_type": "code",
   "execution_count": 2,
   "id": "5553aadb",
   "metadata": {},
   "outputs": [],
   "source": [
    "pages = convert_from_path(r\"docs/medical_history/pdf1.pdf\", poppler_path = r\"C:\\poppler-23.05.0\\Library\\bin\")"
   ]
  },
  {
   "cell_type": "code",
   "execution_count": 3,
   "id": "dd62aa0b",
   "metadata": {},
   "outputs": [],
   "source": [
    "pages[0].show()"
   ]
  },
  {
   "cell_type": "code",
   "execution_count": 4,
   "id": "ea081c70",
   "metadata": {},
   "outputs": [],
   "source": [
    "import pytesseract"
   ]
  },
  {
   "cell_type": "code",
   "execution_count": 5,
   "id": "5bb25859",
   "metadata": {},
   "outputs": [],
   "source": [
    "pytesseract.pytesseract.tesseract_cmd = r'C:\\Program Files\\Tesseract-OCR\\tesseract.exe'"
   ]
  },
  {
   "cell_type": "code",
   "execution_count": 6,
   "id": "6568fd68",
   "metadata": {},
   "outputs": [
    {
     "name": "stdout",
     "output_type": "stream",
     "text": [
      "26/7/2023\n",
      "\n",
      "Medical History Form\n",
      "\n",
      "Full Name Phone Number What is your Gender?\n",
      "\n",
      "Lalit farah (91) 786-5945333 Male\n",
      "\n",
      "Check the conditions that apply to you or to any members of your immediate relatives:\n",
      "\n",
      "Hypertension\n",
      "\n",
      "Check the symptoms that you're currently experiencing:\n",
      "\n",
      "Psychiatric\n",
      "\n",
      "OSCE OO\n",
      "\n",
      "Are you currently taking any medication?\n",
      "\n",
      "No\n",
      "\n",
      "Do you have any medication allergies?\n",
      "\n",
      "aS\n",
      "wo\n",
      "\n",
      "Do you use or do you have history of using tobacco?\n",
      "\n",
      "Voce\n",
      "\n",
      "ToS\n",
      "\n",
      "Do you use or do you have history of using illegal drug\n"
     ]
    }
   ],
   "source": [
    "text = pytesseract.image_to_string(pages[0], lang = \"eng\")\n",
    "print(text)"
   ]
  },
  {
   "cell_type": "code",
   "execution_count": 7,
   "id": "c644a7b6",
   "metadata": {},
   "outputs": [],
   "source": [
    "import cv2"
   ]
  },
  {
   "cell_type": "code",
   "execution_count": 8,
   "id": "8fa550d7",
   "metadata": {},
   "outputs": [],
   "source": [
    "import numpy as np"
   ]
  },
  {
   "cell_type": "code",
   "execution_count": 9,
   "id": "dd28a35d",
   "metadata": {},
   "outputs": [],
   "source": [
    "gray = cv2.cvtColor(np.array(pages[0]),  cv2.COLOR_BGR2GRAY)\n",
    "resized = cv2.resize(gray, (608,800)) \n",
    "img1 = resized[157:217,34:531] # (34,157) (531,217)\n",
    "img2 = resized[231:287,42:531] # (42,231) (531,287)\n",
    "img3 = resized[296:348,43:360] # (43,296) (360,348)\n",
    "img4 = resized[358:419,39:278] # (39,358) (278,419)\n",
    "img5 = resized[428:482,40:265] # (40,428) (265,482)\n",
    "img6 = resized[494:548,32:343] # (32,494) (343,548)\n",
    "img7 = resized[559:610,34:371] # (34,559) (371,610)\n",
    "img8 = resized[628:687,26:261] # (26,628) (261,687)"
   ]
  },
  {
   "cell_type": "code",
   "execution_count": 10,
   "id": "63709a54",
   "metadata": {},
   "outputs": [],
   "source": [
    "def thresh_global(img):\n",
    "    _, resultImage = cv2.threshold(img,240,255,cv2.THRESH_BINARY_INV)\n",
    "    return resultImage\n",
    "\n",
    "def thresh_adaptive(img):\n",
    "    resultImage = cv2.adaptiveThreshold(img, 255, cv2.ADAPTIVE_THRESH_GAUSSIAN_C, cv2.THRESH_BINARY_INV, 13, 2)\n",
    "    return resultImage"
   ]
  },
  {
   "cell_type": "code",
   "execution_count": 12,
   "id": "6ff6ae90",
   "metadata": {},
   "outputs": [],
   "source": [
    "from PIL import Image\n",
    "\n",
    "img_1 = thresh_adaptive(img1)\n",
    "Image.fromarray(img_1).show()"
   ]
  },
  {
   "cell_type": "code",
   "execution_count": 13,
   "id": "fe26c779",
   "metadata": {
    "scrolled": false
   },
   "outputs": [
    {
     "data": {
      "text/plain": [
       "'Full Name Phone Number What is your Gender?\\nLali Farah (91) 725-5945333 Male'"
      ]
     },
     "execution_count": 13,
     "metadata": {},
     "output_type": "execute_result"
    }
   ],
   "source": [
    "text = pytesseract.image_to_string(img_1, lang='eng')\n",
    "text"
   ]
  },
  {
   "cell_type": "markdown",
   "id": "3a4bfd3f",
   "metadata": {},
   "source": [
    "**EXTRACT FULL NAME**"
   ]
  },
  {
   "cell_type": "code",
   "execution_count": 14,
   "id": "1d62511c",
   "metadata": {
    "scrolled": true
   },
   "outputs": [
    {
     "data": {
      "text/plain": [
       "'Lali Farah '"
      ]
     },
     "execution_count": 14,
     "metadata": {},
     "output_type": "execute_result"
    }
   ],
   "source": [
    "import re\n",
    "\n",
    "pattern = '\\\\n(.*?)(\\()'\n",
    "\n",
    "matches = re.findall(pattern, text, flags=re.DOTALL)\n",
    "matches[0][0]"
   ]
  },
  {
   "cell_type": "markdown",
   "id": "b32e905e",
   "metadata": {},
   "source": [
    "**EXTRACT PHONE NUMBER**"
   ]
  },
  {
   "cell_type": "code",
   "execution_count": 15,
   "id": "9065733c",
   "metadata": {
    "scrolled": true
   },
   "outputs": [
    {
     "data": {
      "text/plain": [
       "'(91) 725-5945333'"
      ]
     },
     "execution_count": 15,
     "metadata": {},
     "output_type": "execute_result"
    }
   ],
   "source": [
    "pattern = '\\(\\d{2}\\) \\d{3}-\\d{7}'\n",
    "\n",
    "matches = re.findall(pattern, text, flags=re.DOTALL)\n",
    "matches[0]"
   ]
  },
  {
   "cell_type": "markdown",
   "id": "e5d6efe1",
   "metadata": {},
   "source": [
    "**EXTRACT GENDER**"
   ]
  },
  {
   "cell_type": "code",
   "execution_count": 16,
   "id": "3ac40602",
   "metadata": {},
   "outputs": [
    {
     "data": {
      "text/plain": [
       "'Male'"
      ]
     },
     "execution_count": 16,
     "metadata": {},
     "output_type": "execute_result"
    }
   ],
   "source": [
    "pattern = '\\(\\d{2}\\) \\d{3}-\\d{7} ([A-Za-z]*)'\n",
    "\n",
    "matches = re.findall(pattern, text, flags=re.DOTALL)\n",
    "matches[0]"
   ]
  },
  {
   "cell_type": "code",
   "execution_count": 17,
   "id": "5d9f3bdf",
   "metadata": {},
   "outputs": [],
   "source": [
    "img_2 = thresh_adaptive(img2)\n",
    "Image.fromarray(img_2).show()"
   ]
  },
  {
   "cell_type": "code",
   "execution_count": 18,
   "id": "57690f97",
   "metadata": {
    "scrolled": true
   },
   "outputs": [
    {
     "data": {
      "text/plain": [
       "'Check the conditions that apply to you or to any members of your immediate relatives:\\n\\nHypertension'"
      ]
     },
     "execution_count": 18,
     "metadata": {},
     "output_type": "execute_result"
    }
   ],
   "source": [
    "text = pytesseract.image_to_string(img_2, lang='eng')\n",
    "text"
   ]
  },
  {
   "cell_type": "markdown",
   "id": "46544ed9",
   "metadata": {},
   "source": [
    "**EXTRACT MEDICAL CONDITIONS**"
   ]
  },
  {
   "cell_type": "code",
   "execution_count": 19,
   "id": "e9c230e1",
   "metadata": {},
   "outputs": [
    {
     "data": {
      "text/plain": [
       "'Hypertension'"
      ]
     },
     "execution_count": 19,
     "metadata": {},
     "output_type": "execute_result"
    }
   ],
   "source": [
    "pattern = '\\\\n\\\\n(.*)'\n",
    "\n",
    "matches = re.findall(pattern, text, flags=re.DOTALL)\n",
    "matches[0]"
   ]
  },
  {
   "cell_type": "code",
   "execution_count": 20,
   "id": "bed6467a",
   "metadata": {},
   "outputs": [],
   "source": [
    "img_3 = cv2.adaptiveThreshold(img3, 255, cv2.ADAPTIVE_THRESH_GAUSSIAN_C, cv2.THRESH_BINARY_INV, 11, 6)\n",
    "Image.fromarray(img_3).show()"
   ]
  },
  {
   "cell_type": "code",
   "execution_count": 21,
   "id": "ce2bf9f8",
   "metadata": {
    "scrolled": false
   },
   "outputs": [
    {
     "data": {
      "text/plain": [
       "'Check the symptoms that youre currently experiencing:\\n\\nPsychiatric'"
      ]
     },
     "execution_count": 21,
     "metadata": {},
     "output_type": "execute_result"
    }
   ],
   "source": [
    "text = pytesseract.image_to_string(img_3, lang='eng')\n",
    "text"
   ]
  },
  {
   "cell_type": "markdown",
   "id": "bfa6fd22",
   "metadata": {},
   "source": [
    "**EXTRACT CURRENT SYMPTOMS**"
   ]
  },
  {
   "cell_type": "code",
   "execution_count": 22,
   "id": "206ff0b7",
   "metadata": {},
   "outputs": [
    {
     "data": {
      "text/plain": [
       "'Psychiatric'"
      ]
     },
     "execution_count": 22,
     "metadata": {},
     "output_type": "execute_result"
    }
   ],
   "source": [
    "pattern = '\\\\n\\\\n(.*)'\n",
    "\n",
    "matches = re.findall(pattern, text, flags=re.DOTALL)\n",
    "matches[0]"
   ]
  },
  {
   "cell_type": "code",
   "execution_count": 23,
   "id": "9d44278e",
   "metadata": {},
   "outputs": [],
   "source": [
    "img_4 = thresh_adaptive(img4)\n",
    "Image.fromarray(img_4).show()"
   ]
  },
  {
   "cell_type": "code",
   "execution_count": 24,
   "id": "8e8f34a1",
   "metadata": {
    "scrolled": true
   },
   "outputs": [
    {
     "data": {
      "text/plain": [
       "'‘Ave you currently taking any medication?\\n\\nNo'"
      ]
     },
     "execution_count": 24,
     "metadata": {},
     "output_type": "execute_result"
    }
   ],
   "source": [
    "text = pytesseract.image_to_string(img_4, lang='eng')\n",
    "text"
   ]
  },
  {
   "cell_type": "markdown",
   "id": "f38a90db",
   "metadata": {},
   "source": [
    "**EXTRACT WHETHER MEDICATION TAKEN OR NOT**"
   ]
  },
  {
   "cell_type": "code",
   "execution_count": 25,
   "id": "51bc676b",
   "metadata": {},
   "outputs": [
    {
     "data": {
      "text/plain": [
       "'No'"
      ]
     },
     "execution_count": 25,
     "metadata": {},
     "output_type": "execute_result"
    }
   ],
   "source": [
    "pattern = '\\\\n\\\\n(.*)'\n",
    "\n",
    "matches = re.findall(pattern, text, flags=re.DOTALL)\n",
    "matches[0]"
   ]
  },
  {
   "cell_type": "code",
   "execution_count": 26,
   "id": "00c3f8ab",
   "metadata": {},
   "outputs": [],
   "source": [
    "img_5 = thresh_global(img5)\n",
    "Image.fromarray(img_5).show()"
   ]
  },
  {
   "cell_type": "code",
   "execution_count": 27,
   "id": "2bc7432f",
   "metadata": {
    "scrolled": false
   },
   "outputs": [
    {
     "data": {
      "text/plain": [
       "'Do you have any medication allergies?\\nNo'"
      ]
     },
     "execution_count": 27,
     "metadata": {},
     "output_type": "execute_result"
    }
   ],
   "source": [
    "text = pytesseract.image_to_string(img_5, lang='eng')\n",
    "text"
   ]
  },
  {
   "cell_type": "markdown",
   "id": "61f16d2c",
   "metadata": {},
   "source": [
    "**EXTRACT WHETHER THERE ARE ANY ALLERGIES**"
   ]
  },
  {
   "cell_type": "code",
   "execution_count": 28,
   "id": "5d7f0158",
   "metadata": {},
   "outputs": [
    {
     "data": {
      "text/plain": [
       "'No'"
      ]
     },
     "execution_count": 28,
     "metadata": {},
     "output_type": "execute_result"
    }
   ],
   "source": [
    "pattern = '\\\\n(.*)'\n",
    "\n",
    "matches = re.findall(pattern, text, flags=re.DOTALL)\n",
    "matches[0]"
   ]
  },
  {
   "cell_type": "code",
   "execution_count": 29,
   "id": "a78c150d",
   "metadata": {},
   "outputs": [],
   "source": [
    "img_6 = thresh_global(img6)\n",
    "Image.fromarray(img_6).show()"
   ]
  },
  {
   "cell_type": "code",
   "execution_count": 30,
   "id": "ba235351",
   "metadata": {
    "scrolled": true
   },
   "outputs": [
    {
     "data": {
      "text/plain": [
       "'Do you use or do you hava history of using tobacco?\\n\\nYes'"
      ]
     },
     "execution_count": 30,
     "metadata": {},
     "output_type": "execute_result"
    }
   ],
   "source": [
    "text = pytesseract.image_to_string(img_6, lang='eng')\n",
    "text"
   ]
  },
  {
   "cell_type": "markdown",
   "id": "5b8dfc7c",
   "metadata": {},
   "source": [
    "**EXTRACT WHETHER TOBACCO WAS USED OR NOT**"
   ]
  },
  {
   "cell_type": "code",
   "execution_count": 31,
   "id": "eb1b3b44",
   "metadata": {},
   "outputs": [
    {
     "data": {
      "text/plain": [
       "'Yes'"
      ]
     },
     "execution_count": 31,
     "metadata": {},
     "output_type": "execute_result"
    }
   ],
   "source": [
    "pattern = '\\\\n\\\\n(.*)'\n",
    "\n",
    "matches = re.findall(pattern, text, flags=re.DOTALL)\n",
    "matches[0]"
   ]
  },
  {
   "cell_type": "code",
   "execution_count": 32,
   "id": "49b07590",
   "metadata": {},
   "outputs": [],
   "source": [
    "img_7 = thresh_adaptive(img7)\n",
    "Image.fromarray(img_7).show()"
   ]
  },
  {
   "cell_type": "code",
   "execution_count": 33,
   "id": "615ed48c",
   "metadata": {
    "scrolled": true
   },
   "outputs": [
    {
     "data": {
      "text/plain": [
       "'Do youuse or do you have history of using illegal drugs?\\n\\nNo'"
      ]
     },
     "execution_count": 33,
     "metadata": {},
     "output_type": "execute_result"
    }
   ],
   "source": [
    "text = pytesseract.image_to_string(img_7, lang='eng')\n",
    "text"
   ]
  },
  {
   "cell_type": "markdown",
   "id": "b196d4fa",
   "metadata": {},
   "source": [
    "**EXTRACT WHETHER ILLEGAL DRUGS WERE USED OR NOT**"
   ]
  },
  {
   "cell_type": "code",
   "execution_count": 34,
   "id": "0781b9bb",
   "metadata": {},
   "outputs": [
    {
     "data": {
      "text/plain": [
       "'No'"
      ]
     },
     "execution_count": 34,
     "metadata": {},
     "output_type": "execute_result"
    }
   ],
   "source": [
    "pattern = '\\\\n\\\\n(.*)'\n",
    "\n",
    "matches = re.findall(pattern, text, flags=re.DOTALL)\n",
    "matches[0]"
   ]
  },
  {
   "cell_type": "code",
   "execution_count": 35,
   "id": "7839ce8b",
   "metadata": {},
   "outputs": [],
   "source": [
    "img_8 = cv2.adaptiveThreshold(img8, 255, cv2.ADAPTIVE_THRESH_GAUSSIAN_C, cv2.THRESH_BINARY_INV, 23, 24)\n",
    "Image.fromarray(img_8).show()"
   ]
  },
  {
   "cell_type": "code",
   "execution_count": 36,
   "id": "ca34d207",
   "metadata": {},
   "outputs": [
    {
     "data": {
      "text/plain": [
       "'How often de you consume alcohol?\\n\\nOccasionally'"
      ]
     },
     "execution_count": 36,
     "metadata": {},
     "output_type": "execute_result"
    }
   ],
   "source": [
    "text = pytesseract.image_to_string(img_8, lang='eng')\n",
    "text"
   ]
  },
  {
   "cell_type": "markdown",
   "id": "26093577",
   "metadata": {},
   "source": [
    "**EXTRACT HOW OFTEN PATIENT CONSUMES ALCOHOL**"
   ]
  },
  {
   "cell_type": "code",
   "execution_count": 37,
   "id": "56d2a15e",
   "metadata": {},
   "outputs": [
    {
     "data": {
      "text/plain": [
       "'Occasionally'"
      ]
     },
     "execution_count": 37,
     "metadata": {},
     "output_type": "execute_result"
    }
   ],
   "source": [
    "pattern = '\\\\n\\\\n(.*)'\n",
    "\n",
    "matches = re.findall(pattern, text, flags=re.DOTALL)\n",
    "matches[0]"
   ]
  }
 ],
 "metadata": {
  "kernelspec": {
   "display_name": "Python 3 (ipykernel)",
   "language": "python",
   "name": "python3"
  },
  "language_info": {
   "codemirror_mode": {
    "name": "ipython",
    "version": 3
   },
   "file_extension": ".py",
   "mimetype": "text/x-python",
   "name": "python",
   "nbconvert_exporter": "python",
   "pygments_lexer": "ipython3",
   "version": "3.8.10"
  }
 },
 "nbformat": 4,
 "nbformat_minor": 5
}
