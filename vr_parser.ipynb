{
 "cells": [
  {
   "cell_type": "code",
   "execution_count": 1,
   "id": "fd2738f8",
   "metadata": {},
   "outputs": [],
   "source": [
    "from pdf2image import convert_from_path"
   ]
  },
  {
   "cell_type": "code",
   "execution_count": 34,
   "id": "bb928c41",
   "metadata": {},
   "outputs": [],
   "source": [
    "pages = convert_from_path(r\"docs/vaccination_record/pp2.pdf\", poppler_path = r\"C:\\poppler-23.05.0\\Library\\bin\")"
   ]
  },
  {
   "cell_type": "code",
   "execution_count": 35,
   "id": "43485024",
   "metadata": {},
   "outputs": [],
   "source": [
    "pages[0].show()"
   ]
  },
  {
   "cell_type": "code",
   "execution_count": 36,
   "id": "b4061f04",
   "metadata": {},
   "outputs": [],
   "source": [
    "import pytesseract"
   ]
  },
  {
   "cell_type": "code",
   "execution_count": 37,
   "id": "6b977ff7",
   "metadata": {},
   "outputs": [],
   "source": [
    "pytesseract.pytesseract.tesseract_cmd = r'C:\\Program Files\\Tesseract-OCR\\tesseract.exe'"
   ]
  },
  {
   "cell_type": "code",
   "execution_count": 38,
   "id": "0f3f834c",
   "metadata": {},
   "outputs": [
    {
     "name": "stdout",
     "output_type": "stream",
     "text": [
      "Vaccination Record Card\n",
      "\n",
      "same Age Batch No.\n",
      "Jot Kaur 23 “00\n",
      "Date of Birth Gender Patient ID\n",
      "| March 21, 2000 Female 101\n",
      "\n",
      "Vaccination Record\n",
      "\n",
      "Date Dosage LotNumber = Manufacturer —_Locationysite\n",
      "1st Dose 12-03-2021 2 3000 abc Jalandhar\n",
      "2nd Dose 24-04-2022 1 4000 Xyz Ludhiana\n",
      "\n",
      "3rd Dose\n",
      "Please keep this record card, it includes the medical information, details and the vaccine you have received. This\n",
      "\n",
      "card will show the next schedule of your vaccine. It is important to show this card to the next vaccination schedule\n",
      "for health officials to verify.\n",
      "\n",
      "4 Jotform\n",
      "\n",
      "Create your own automated PDFs with Jotform PDF Editor- It's free\n",
      "\n",
      "pe weUTOTIT\n"
     ]
    }
   ],
   "source": [
    "text1 = pytesseract.image_to_string(pages[0], lang = \"eng\")\n",
    "print(text1)"
   ]
  },
  {
   "cell_type": "code",
   "execution_count": 39,
   "id": "38dd28d1",
   "metadata": {},
   "outputs": [],
   "source": [
    "import cv2"
   ]
  },
  {
   "cell_type": "code",
   "execution_count": 40,
   "id": "7670dde9",
   "metadata": {},
   "outputs": [],
   "source": [
    "import numpy as np"
   ]
  },
  {
   "cell_type": "code",
   "execution_count": 41,
   "id": "835aa00f",
   "metadata": {},
   "outputs": [],
   "source": [
    "def pre_process(img):\n",
    "    gray = cv2.cvtColor(np.array(img),  cv2.COLOR_BGR2GRAY)\n",
    "    resized = cv2.resize(gray, None, fx=1, fy=1, interpolation=cv2.INTER_LINEAR) \n",
    "    processed_img = cv2.adaptiveThreshold(resized, 255, cv2.ADAPTIVE_THRESH_GAUSSIAN_C, cv2.THRESH_BINARY, 75, 31) \n",
    "    return processed_img"
   ]
  },
  {
   "cell_type": "code",
   "execution_count": 42,
   "id": "d4474ea0",
   "metadata": {},
   "outputs": [
    {
     "data": {
      "text/plain": [
       "array([[255, 255, 255, ...,   0,   0,   0],\n",
       "       [255, 255, 255, ...,   0,   0,   0],\n",
       "       [255, 255, 255, ...,   0,   0,   0],\n",
       "       ...,\n",
       "       [255, 255, 255, ..., 255, 255, 255],\n",
       "       [  0,   0, 255, ..., 255, 255, 255],\n",
       "       [  0,   0,   0, ..., 255, 255, 255]], dtype=uint8)"
      ]
     },
     "execution_count": 42,
     "metadata": {},
     "output_type": "execute_result"
    }
   ],
   "source": [
    "img = pre_process(pages[0])\n",
    "img"
   ]
  },
  {
   "cell_type": "code",
   "execution_count": 43,
   "id": "f60f5a77",
   "metadata": {},
   "outputs": [],
   "source": [
    "from PIL import Image"
   ]
  },
  {
   "cell_type": "code",
   "execution_count": 44,
   "id": "b71ca694",
   "metadata": {},
   "outputs": [],
   "source": [
    "Image.fromarray(img).show()"
   ]
  },
  {
   "cell_type": "code",
   "execution_count": 45,
   "id": "fed1ee13",
   "metadata": {},
   "outputs": [],
   "source": [
    "text = pytesseract.image_to_string(img, lang = \"eng\")"
   ]
  },
  {
   "cell_type": "code",
   "execution_count": 46,
   "id": "0aecd309",
   "metadata": {},
   "outputs": [
    {
     "name": "stdout",
     "output_type": "stream",
     "text": [
      "Name\n",
      "jot Kaur\n",
      "\n",
      "Date of Birth\n",
      "March 21, 2000\n",
      "\n",
      "Vaccination Record\n",
      "\n",
      "Date\n",
      "ist Dose 12-03-2021\n",
      "2nd Dose 24-04-2022\n",
      "\n",
      "3rd Dose\n",
      "\n",
      "Age Batch No,\n",
      "23 400\n",
      "Gender Patient ID\n",
      "Female 101\n",
      "Dosage Lot Number Manufacturer Location/site\n",
      "2 3000 abe Jalandhar\n",
      "1 4000 xyz Ludhiana\n",
      "\n",
      "Please keep this record card, it includes the medical information, details and the vaccine you have received. This\n",
      "card will show the next schedule of your vaccine. It is important to show this card to the next vaccination schedule\n",
      "\n",
      "for health officials to verify.\n",
      "\n",
      "Greate your own automated PDFs with Jotform PDF Editor- It's free\n",
      "\n",
      "% Jotform\n",
      "\n",
      "nm\n",
      "arr WUT ST ELE\n"
     ]
    }
   ],
   "source": [
    "print(text)"
   ]
  },
  {
   "cell_type": "markdown",
   "id": "081910ba",
   "metadata": {},
   "source": [
    "**EXTRACT NAME**"
   ]
  },
  {
   "cell_type": "code",
   "execution_count": 47,
   "id": "ab78a9c5",
   "metadata": {},
   "outputs": [],
   "source": [
    "import re"
   ]
  },
  {
   "cell_type": "code",
   "execution_count": 48,
   "id": "6bb4403b",
   "metadata": {},
   "outputs": [],
   "source": [
    "pattern = \"Name(.*?)Date\""
   ]
  },
  {
   "cell_type": "code",
   "execution_count": 49,
   "id": "4e3d92f0",
   "metadata": {
    "scrolled": true
   },
   "outputs": [
    {
     "data": {
      "text/plain": [
       "'jot Kaur'"
      ]
     },
     "execution_count": 49,
     "metadata": {},
     "output_type": "execute_result"
    }
   ],
   "source": [
    "matches = re.findall(pattern, text, flags = re.DOTALL)\n",
    "matches[0].strip()"
   ]
  },
  {
   "cell_type": "markdown",
   "id": "0c3d10b7",
   "metadata": {},
   "source": [
    "**EXTRACT DATE OF BIRTH**"
   ]
  },
  {
   "cell_type": "code",
   "execution_count": 50,
   "id": "d6e9801a",
   "metadata": {},
   "outputs": [],
   "source": [
    "pattern = \"Birth(.*?)Vaccination\""
   ]
  },
  {
   "cell_type": "code",
   "execution_count": 51,
   "id": "7a28827b",
   "metadata": {},
   "outputs": [
    {
     "data": {
      "text/plain": [
       "'March 21, 2000'"
      ]
     },
     "execution_count": 51,
     "metadata": {},
     "output_type": "execute_result"
    }
   ],
   "source": [
    "matches = re.findall(pattern, text, flags = re.DOTALL)\n",
    "matches[0].strip()"
   ]
  },
  {
   "cell_type": "markdown",
   "id": "7cd93a33",
   "metadata": {},
   "source": [
    "**EXTRACT DATES OF DOSAGES IN A LIST**"
   ]
  },
  {
   "cell_type": "code",
   "execution_count": 61,
   "id": "d0b1c939",
   "metadata": {},
   "outputs": [],
   "source": [
    "pattern1, pattern2, pattern3 = \"1st|ist Dose (.*?)2nd\", \"2nd Dose (.*?)3rd\", \"3rd Dose (.*?)Age\""
   ]
  },
  {
   "cell_type": "code",
   "execution_count": 62,
   "id": "a7a30e4d",
   "metadata": {},
   "outputs": [],
   "source": [
    "matches1 = re.findall(pattern1, text, flags = re.DOTALL)\n",
    "matches2 = re.findall(pattern2, text, flags = re.DOTALL)\n",
    "matches3 = re.findall(pattern3, text, flags = re.DOTALL)"
   ]
  },
  {
   "cell_type": "code",
   "execution_count": 63,
   "id": "65a0b546",
   "metadata": {},
   "outputs": [
    {
     "name": "stdout",
     "output_type": "stream",
     "text": [
      "['12-03-2021', '24-04-2022']\n"
     ]
    }
   ],
   "source": [
    "try:\n",
    "    dates = []\n",
    "    dates.append(matches1[0].strip())\n",
    "    dates.append(matches2[0].strip())\n",
    "    dates.append(matches3[0].strip())"
   ]
  },
  {
   "cell_type": "markdown",
   "id": "85d0abd1",
   "metadata": {},
   "source": [
    "**EXTRACT GENDER**"
   ]
  },
  {
   "cell_type": "code",
   "execution_count": 78,
   "id": "f94e713e",
   "metadata": {},
   "outputs": [],
   "source": [
    "pattern = \"ID\\n([a-zA-Z]*)\""
   ]
  },
  {
   "cell_type": "code",
   "execution_count": 79,
   "id": "e4697d84",
   "metadata": {},
   "outputs": [
    {
     "data": {
      "text/plain": [
       "'Female'"
      ]
     },
     "execution_count": 79,
     "metadata": {},
     "output_type": "execute_result"
    }
   ],
   "source": [
    "matches = re.findall(pattern, text, flags = re.DOTALL)\n",
    "matches[0].strip()"
   ]
  },
  {
   "cell_type": "markdown",
   "id": "0bfb7503",
   "metadata": {},
   "source": [
    "**EXTRACT AGE**"
   ]
  },
  {
   "cell_type": "code",
   "execution_count": 76,
   "id": "b4424bdd",
   "metadata": {},
   "outputs": [],
   "source": [
    "pattern = \"Batch No,\\n(\\d{2})\""
   ]
  },
  {
   "cell_type": "code",
   "execution_count": 77,
   "id": "cd4f50cb",
   "metadata": {},
   "outputs": [
    {
     "data": {
      "text/plain": [
       "'23'"
      ]
     },
     "execution_count": 77,
     "metadata": {},
     "output_type": "execute_result"
    }
   ],
   "source": [
    "matches = re.findall(pattern, text, flags = re.DOTALL)\n",
    "matches[0].strip()"
   ]
  },
  {
   "cell_type": "markdown",
   "id": "ab5e9358",
   "metadata": {},
   "source": [
    "**EXTRACT NUMBER OF DOSAGES FOR EACH DOSAGE IN A LIST**"
   ]
  },
  {
   "cell_type": "code",
   "execution_count": 80,
   "id": "be2015d1",
   "metadata": {},
   "outputs": [],
   "source": [
    "pattern = \"\\n(\\d{1}) \""
   ]
  },
  {
   "cell_type": "code",
   "execution_count": 81,
   "id": "3abcdfea",
   "metadata": {},
   "outputs": [
    {
     "data": {
      "text/plain": [
       "['2', '1']"
      ]
     },
     "execution_count": 81,
     "metadata": {},
     "output_type": "execute_result"
    }
   ],
   "source": [
    "matches = re.findall(pattern, text, flags = re.DOTALL)\n",
    "matches"
   ]
  }
 ],
 "metadata": {
  "kernelspec": {
   "display_name": "Python 3 (ipykernel)",
   "language": "python",
   "name": "python3"
  },
  "language_info": {
   "codemirror_mode": {
    "name": "ipython",
    "version": 3
   },
   "file_extension": ".py",
   "mimetype": "text/x-python",
   "name": "python",
   "nbconvert_exporter": "python",
   "pygments_lexer": "ipython3",
   "version": "3.8.10"
  }
 },
 "nbformat": 4,
 "nbformat_minor": 5
}
